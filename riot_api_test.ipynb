{
 "cells": [
  {
   "cell_type": "markdown",
   "id": "b7847c8f",
   "metadata": {},
   "source": [
    "# This serves as a prototype for calling, cleaning, and aggregating data from Riot's API.\n",
    "### My API key is private, but you can easily create a .env for yourself and store it here."
   ]
  },
  {
   "cell_type": "code",
   "execution_count": 48,
   "id": "09aa011e",
   "metadata": {},
   "outputs": [],
   "source": [
    "# Import Dependencies\n",
    "from dotenv import load_dotenv\n",
    "import os\n",
    "import pandas as pd\n",
    "import requests\n",
    "import urllib.parse\n",
    "from pprint import pprint\n",
    "\n",
    "# Load environment variables from the .env file\n",
    "load_dotenv()\n",
    "\n",
    "# Retrieve the Riot API key\n",
    "riot_api_key = os.getenv(\"RIOT_API_KEY\")\n",
    "\n",
    "# Riot API base URL\n",
    "base_url = \"https://americas.api.riotgames.com\""
   ]
  },
  {
   "cell_type": "code",
   "execution_count": 38,
   "id": "d6cf32a2",
   "metadata": {},
   "outputs": [],
   "source": [
    "# Grab a Summoner's puuid\n",
    "\n",
    "def get_puuid(game_name, tag_line):\n",
    "    \"\"\"\n",
    "    Get the PUUID (Player Unique ID) for a given summoner using their Riot ID (gameName and tagLine).\n",
    "    \n",
    "    Parameters:\n",
    "    - game_name (str): Summoner's game name (e.g., 'SummonerOne')\n",
    "    - tag_line (str): Summoner's tag line (e.g., '0xZZk')\n",
    "    \n",
    "    Returns:\n",
    "    - str: The PUUID of the summoner, or None if the request fails.\n",
    "    \"\"\"\n",
    "\n",
    "    # Endpoint to get account info by Riot ID\n",
    "    endpoint = f\"/riot/account/v1/accounts/by-riot-id/{game_name}/{tag_line}\"\n",
    "    \n",
    "    # Construct the full URL\n",
    "    url = base_url + endpoint\n",
    "    \n",
    "    # Define headers, including the API Key\n",
    "    headers = {\n",
    "        \"X-Riot-Token\": riot_api_key\n",
    "    }\n",
    "    \n",
    "    # Make the API request\n",
    "    response = requests.get(url, headers=headers)\n",
    "    \n",
    "    # Check if the request was successful\n",
    "    if response.status_code == 200:\n",
    "        data = response.json()\n",
    "        # Extract PUUID from the response\n",
    "        return data.get(\"puuid\", None)\n",
    "    else:\n",
    "        print(f\"Error fetching PUUID: {response.status_code} - {response.text}\")\n",
    "        return None"
   ]
  },
  {
   "cell_type": "code",
   "execution_count": 40,
   "id": "d41bd582",
   "metadata": {},
   "outputs": [],
   "source": [
    "# Testing my summoner name\n",
    "unearthed_puuid = get_puuid('Unearthed','0xZZk')"
   ]
  },
  {
   "cell_type": "code",
   "execution_count": 42,
   "id": "f244ba4c",
   "metadata": {},
   "outputs": [],
   "source": [
    "# Grab Summoners last n matches\n",
    "\n",
    "def get_match_ids(puuid, count=10):\n",
    "    headers = {\n",
    "        \"X-Riot-Token\": riot_api_key\n",
    "    }\n",
    "    url = f\"https://americas.api.riotgames.com/lol/match/v5/matches/by-puuid/{puuid}/ids\"\n",
    "    params = {\n",
    "        \"start\": 0,\n",
    "        \"count\": count\n",
    "    }\n",
    "    response = requests.get(url, headers=headers, params=params)\n",
    "\n",
    "    if response.status_code == 200:\n",
    "        return response.json()  # List of match IDs\n",
    "    else:\n",
    "        print(f\"Error: {response.status_code} - {response.text}\")\n",
    "        return None"
   ]
  },
  {
   "cell_type": "code",
   "execution_count": 43,
   "id": "e830a762",
   "metadata": {},
   "outputs": [
    {
     "data": {
      "text/plain": [
       "['NA1_5278153946',\n",
       " 'NA1_5278129671',\n",
       " 'NA1_5278107868',\n",
       " 'NA1_5278022110',\n",
       " 'NA1_5277407560',\n",
       " 'NA1_5277181456',\n",
       " 'NA1_5277090894',\n",
       " 'NA1_5277075378',\n",
       " 'NA1_5277033937',\n",
       " 'NA1_5277027770']"
      ]
     },
     "execution_count": 43,
     "metadata": {},
     "output_type": "execute_result"
    }
   ],
   "source": [
    "# My last ten matches\n",
    "match_ids = get_match_ids(unearthed_puuid,10)\n",
    "match_ids"
   ]
  },
  {
   "cell_type": "code",
   "execution_count": 1,
   "id": "768acb25",
   "metadata": {},
   "outputs": [],
   "source": [
    "# Hard coding this so I don't have to run the API again and get different numbers\n",
    "match_ids = ['NA1_5278153946',\n",
    " 'NA1_5278129671',\n",
    " 'NA1_5278107868',\n",
    " 'NA1_5278022110',\n",
    " 'NA1_5277407560',\n",
    " 'NA1_5277181456',\n",
    " 'NA1_5277090894',\n",
    " 'NA1_5277075378',\n",
    " 'NA1_5277033937',\n",
    " 'NA1_5277027770']"
   ]
  }
 ],
 "metadata": {
  "kernelspec": {
   "display_name": "dev",
   "language": "python",
   "name": "python3"
  },
  "language_info": {
   "codemirror_mode": {
    "name": "ipython",
    "version": 3
   },
   "file_extension": ".py",
   "mimetype": "text/x-python",
   "name": "python",
   "nbconvert_exporter": "python",
   "pygments_lexer": "ipython3",
   "version": "3.10.16"
  }
 },
 "nbformat": 4,
 "nbformat_minor": 5
}
