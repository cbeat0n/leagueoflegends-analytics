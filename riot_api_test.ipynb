{
 "cells": [
  {
   "cell_type": "markdown",
   "id": "b7847c8f",
   "metadata": {},
   "source": [
    "# This serves as a prototype for calling, cleaning, and aggregating data from Riot's API.\n",
    "### My API key is private, but you can easily create a .env for yourself and store it here."
   ]
  },
  {
   "cell_type": "code",
   "execution_count": 1,
   "id": "09aa011e",
   "metadata": {},
   "outputs": [],
   "source": [
    "# Import Dependencies\n",
    "from dotenv import load_dotenv\n",
    "import os\n",
    "import json\n",
    "import pandas as pd\n",
    "import requests\n",
    "import urllib.parse\n",
    "from pprint import pprint\n",
    "\n",
    "# Load environment variables from the .env file\n",
    "load_dotenv()\n",
    "\n",
    "# Retrieve the Riot API key\n",
    "riot_api_key = os.getenv(\"RIOT_API_KEY\")\n",
    "\n",
    "# Riot API base URL\n",
    "base_url = \"https://americas.api.riotgames.com\""
   ]
  },
  {
   "cell_type": "code",
   "execution_count": 2,
   "id": "d6cf32a2",
   "metadata": {},
   "outputs": [],
   "source": [
    "# Grab a Summoner's puuid\n",
    "\n",
    "def get_puuid(game_name, tag_line):\n",
    "    \"\"\"\n",
    "    Get the PUUID (Player Unique ID) for a given summoner using their Riot ID (gameName and tagLine).\n",
    "    \n",
    "    Parameters:\n",
    "    - game_name (str): Summoner's game name (e.g., 'SummonerOne')\n",
    "    - tag_line (str): Summoner's tag line (e.g., '0xZZk')\n",
    "    \n",
    "    Returns:\n",
    "    - str: The PUUID of the summoner, or None if the request fails.\n",
    "    \"\"\"\n",
    "\n",
    "    # Endpoint to get account info by Riot ID\n",
    "    endpoint = f\"/riot/account/v1/accounts/by-riot-id/{game_name}/{tag_line}\"\n",
    "    \n",
    "    # Construct the full URL\n",
    "    url = base_url + endpoint\n",
    "    \n",
    "    # Define headers, including the API Key\n",
    "    headers = {\n",
    "        \"X-Riot-Token\": riot_api_key\n",
    "    }\n",
    "    \n",
    "    # Make the API request\n",
    "    response = requests.get(url, headers=headers)\n",
    "    \n",
    "    # Check if the request was successful\n",
    "    if response.status_code == 200:\n",
    "        data = response.json()\n",
    "        # Extract PUUID from the response\n",
    "        return data.get(\"puuid\", None)\n",
    "    else:\n",
    "        print(f\"Error fetching PUUID: {response.status_code} - {response.text}\")\n",
    "        return None"
   ]
  },
  {
   "cell_type": "code",
   "execution_count": 3,
   "id": "d41bd582",
   "metadata": {},
   "outputs": [],
   "source": [
    "# Testing my summoner name\n",
    "unearthed_puuid = get_puuid('Unearthed','0xZZk')"
   ]
  },
  {
   "cell_type": "code",
   "execution_count": 4,
   "id": "f244ba4c",
   "metadata": {},
   "outputs": [],
   "source": [
    "# Grab Summoners last n matches\n",
    "\n",
    "def get_match_ids(puuid, count=10):\n",
    "    headers = {\n",
    "        \"X-Riot-Token\": riot_api_key\n",
    "    }\n",
    "    url = f\"https://americas.api.riotgames.com/lol/match/v5/matches/by-puuid/{puuid}/ids\"\n",
    "    params = {\n",
    "        \"start\": 0,\n",
    "        \"count\": count\n",
    "    }\n",
    "    response = requests.get(url, headers=headers, params=params)\n",
    "\n",
    "    if response.status_code == 200:\n",
    "        return response.json()  # List of match IDs\n",
    "    else:\n",
    "        print(f\"Error: {response.status_code} - {response.text}\")\n",
    "        return None"
   ]
  },
  {
   "cell_type": "code",
   "execution_count": 5,
   "id": "e830a762",
   "metadata": {},
   "outputs": [
    {
     "data": {
      "text/plain": [
       "['NA1_5282347493',\n",
       " 'NA1_5282327716',\n",
       " 'NA1_5282314897',\n",
       " 'NA1_5282303352',\n",
       " 'NA1_5282291678',\n",
       " 'NA1_5282291830',\n",
       " 'NA1_5282279999',\n",
       " 'NA1_5282259071',\n",
       " 'NA1_5282256473',\n",
       " 'NA1_5282245548',\n",
       " 'NA1_5281660396',\n",
       " 'NA1_5281653581']"
      ]
     },
     "execution_count": 5,
     "metadata": {},
     "output_type": "execute_result"
    }
   ],
   "source": [
    "# My last ten matches - 2 were remakes and will be removed.\n",
    "match_ids = get_match_ids(unearthed_puuid,12)\n",
    "match_ids"
   ]
  },
  {
   "cell_type": "code",
   "execution_count": 11,
   "id": "286c708a",
   "metadata": {},
   "outputs": [],
   "source": [
    "#Get match metadata for a matchId\n",
    "\n",
    "def get_match_metadata(match_id):\n",
    "    \"\"\"\n",
    "    Fetches match metadata for a given match ID using the base_url.\n",
    "    Includes game duration and participant stats.\n",
    "    \"\"\"\n",
    "    url = f\"{base_url}/lol/match/v5/matches/{match_id}\"\n",
    "    headers = {\n",
    "        \"X-Riot-Token\": riot_api_key\n",
    "    }\n",
    "\n",
    "    response = requests.get(url, headers=headers)\n",
    "\n",
    "    if response.status_code == 200:\n",
    "        return response.json()\n",
    "    else:\n",
    "        print(f\"[ERROR] Match metadata fetch failed for {match_id}: {response.status_code}\")\n",
    "        return None"
   ]
  },
  {
   "cell_type": "code",
   "execution_count": 7,
   "id": "649b9dbc",
   "metadata": {},
   "outputs": [],
   "source": [
    "#Get match timeline data by match id.\n",
    "\n",
    "def get_timeline_data(matchId):\n",
    "    \n",
    "    endpoint = f\"/lol/match/v5/matches/{matchId}/timeline\"\n",
    "\n",
    "\n",
    "    headers = {\n",
    "        \"X-Riot-Token\": riot_api_key\n",
    "    }\n",
    "\n",
    "    url = base_url + endpoint\n",
    "\n",
    "\n",
    "    response = requests.get(url, headers=headers)\n",
    "\n",
    "    if response.status_code == 200:\n",
    "        return response.json()  # Timeline data\n",
    "    else:\n",
    "        print(f\"Error: {response.status_code} - {response.text}\")\n",
    "        return None"
   ]
  },
  {
   "cell_type": "code",
   "execution_count": 14,
   "id": "ca50343d",
   "metadata": {},
   "outputs": [
    {
     "name": "stdout",
     "output_type": "stream",
     "text": [
      "Saved successfully.\n"
     ]
    }
   ],
   "source": [
    "#Send this to a JSON to communicate with ChatGPT.\n",
    "\n",
    "with open(\"data/prototype-data/test_data.json\", \"w\") as f:\n",
    "        json.dump(match_json, f, indent=4)\n",
    "print(\"Saved successfully.\")"
   ]
  },
  {
   "cell_type": "code",
   "execution_count": 12,
   "id": "542cee75",
   "metadata": {},
   "outputs": [
    {
     "name": "stdout",
     "output_type": "stream",
     "text": [
      "NA1_5282291830 associated with a game that was remade.\n",
      "NA1_5282256473 associated with a game that was remade.\n"
     ]
    }
   ],
   "source": [
    "#Find the matches with non - remake data.\n",
    "trimmed_ids = []\n",
    "for gameId in match_ids:\n",
    "    metaData = get_match_metadata(gameId)\n",
    "\n",
    "    if metaData[\"info\"][\"gameDuration\"] > 240:\n",
    "        trimmed_ids.append(gameId)\n",
    "    else:\n",
    "        print(f\"{gameId} associated with a game that was remade.\")"
   ]
  },
  {
   "cell_type": "code",
   "execution_count": null,
   "id": "36eababe",
   "metadata": {},
   "outputs": [],
   "source": [
    "#Hardcoded game ids:\n",
    "trimmed_ids = ['NA1_5282347493',\n",
    " 'NA1_5282327716',\n",
    " 'NA1_5282314897',\n",
    " 'NA1_5282303352',\n",
    " 'NA1_5282291678',\n",
    " 'NA1_5282279999',\n",
    " 'NA1_5282259071',\n",
    " 'NA1_5282245548',\n",
    " 'NA1_5281660396',\n",
    " 'NA1_5281653581']"
   ]
  },
  {
   "cell_type": "code",
   "execution_count": 16,
   "id": "f7496ef8",
   "metadata": {},
   "outputs": [],
   "source": [
    "#Get total data for each game.\n",
    "metaData_JSONS = []\n",
    "gameData_JSONS = []\n",
    "\n",
    "for little_id in trimmed_ids:\n",
    "    metaData_JSONS.append(get_match_metadata(little_id))\n",
    "    gameData_JSONS.append(get_timeline_data(little_id))\n",
    "\n"
   ]
  },
  {
   "cell_type": "markdown",
   "id": "70a9984b",
   "metadata": {},
   "source": [
    "## Above is considered what will be riot_api.py. We will get the player id, match id, then meta and game data. Below is going to be etl.py where we will then take these and make one json."
   ]
  },
  {
   "cell_type": "markdown",
   "id": "ed78036e",
   "metadata": {},
   "source": []
  }
 ],
 "metadata": {
  "kernelspec": {
   "display_name": "dev",
   "language": "python",
   "name": "python3"
  },
  "language_info": {
   "codemirror_mode": {
    "name": "ipython",
    "version": 3
   },
   "file_extension": ".py",
   "mimetype": "text/x-python",
   "name": "python",
   "nbconvert_exporter": "python",
   "pygments_lexer": "ipython3",
   "version": "3.10.16"
  }
 },
 "nbformat": 4,
 "nbformat_minor": 5
}
